{
 "cells": [
  {
   "cell_type": "code",
   "execution_count": 35,
   "metadata": {},
   "outputs": [],
   "source": [
    "import librosa\n",
    "import json\n",
    "import pandas as pd\n",
    "import numpy as np\n",
    "from sklearn.metrics import silhouette_score\n",
    "from sklearn import preprocessing\n",
    "from sklearn.preprocessing import StandardScaler\n",
    "from sklearn.cluster import SpectralClustering\n",
    "\n",
    "\n",
    "def dict_morse_to_text():\n",
    "    # loading dictionary with translated letters to morse code\n",
    "    with open('./data/morse_code.json', \"r\", encoding='utf-8') as file:\n",
    "        morse_code = json.load(file)\n",
    "    from_morse = {}\n",
    "    for key, value in morse_code.items():\n",
    "        from_morse[value] = key\n",
    "    # print(from_morse)\n",
    "    return from_morse\n",
    "\n",
    "\n",
    "#  translating sentances into morse code\n",
    "def translator_from_morse(text):\n",
    "    from_morse = dict_morse_to_text()\n",
    "    return \" \".join([\"\".join([from_morse.get(\"\".join(sign.split(\",\"))) for sign in word.split(\"_\")]) for word in text.split(\" \")])\n",
    "\n",
    "\n",
    "def dict_class_to_morse(cluster_centers):\n",
    "    dict = {}\n",
    "    print(cluster_centers)\n",
    "    if len(cluster_centers) == 1:\n",
    "        dict[0] = '.'\n",
    "    if len(cluster_centers[cluster_centers > 0]) == 1 and len(cluster_centers[cluster_centers < 0]) == 1:\n",
    "        dict[0] = ','\n",
    "        dict[1] = '.'\n",
    "    elif len(cluster_centers[cluster_centers > 0]) == 1 and len(cluster_centers[cluster_centers < 0]) == 2:\n",
    "        if (abs(cluster_centers[1]) - cluster_centers[2])**2 < (abs(cluster_centers[0]) - cluster_centers[2])**2:\n",
    "        # if abs(cluster_centers[0]) > cluster_centers[cluster_centers>0][0]>abs(cluster_centers[1]):\n",
    "            dict[0] = '_'\n",
    "            dict[1] = ','\n",
    "            dict[2] = '.'\n",
    "        # elif abs(cluster_centers[0]) < cluster_centers[cluster_centers>0][0]:\n",
    "        else:\n",
    "            dict[0] = '_'\n",
    "            dict[1] = ','\n",
    "            dict[2] = '-'\n",
    "    elif len(cluster_centers[cluster_centers > 0]) == 2 and len(cluster_centers[cluster_centers < 0]) == 1:\n",
    "        if (abs(cluster_centers[0]) - cluster_centers[1])**2 < (abs(cluster_centers[0]) - cluster_centers[2])**2:\n",
    "            dict[0] = ','\n",
    "            dict[1] = '.'\n",
    "            dict[2] = '-'\n",
    "        elif (abs(cluster_centers[0])-cluster_centers[2])**2 < cluster_centers[cluster_centers>0][0]**2:\n",
    "            dict[0] = '_'\n",
    "            dict[1] = '.'\n",
    "            dict[2] = '-'\n",
    "        else:\n",
    "            dict[0] = ' '\n",
    "            dict[1] = '.'\n",
    "            dict[2] = '-'\n",
    "    elif len(cluster_centers[cluster_centers > 0]) == 2 and len(cluster_centers[cluster_centers < 0]) == 2:\n",
    "        print(cluster_centers)\n",
    "        if (abs(cluster_centers[0]) - cluster_centers[cluster_centers>0][1])**2  > cluster_centers[cluster_centers>0][0]**2 and (abs(cluster_centers[1]) - cluster_centers[cluster_centers>0][1])**2  < cluster_centers[cluster_centers>0][0]**2:\n",
    "            dict[0] = ' '\n",
    "            dict[1] = '_'\n",
    "            dict[2] = '.'\n",
    "            dict[3] = '-'\n",
    "        if (abs(cluster_centers[0]) - cluster_centers[cluster_centers>0][1])**2  > cluster_centers[cluster_centers>0][0]**2 and (abs(cluster_centers[1]) - cluster_centers[cluster_centers>0][1])**2  > cluster_centers[cluster_centers>0][0]**2:\n",
    "            dict[0] = ' '\n",
    "            dict[1] = ','\n",
    "            dict[2] = '.'\n",
    "            dict[3] = '-'\n",
    "        else:\n",
    "            print(\"opcja 2\")\n",
    "            dict[0] = '_'\n",
    "            dict[1] = ','\n",
    "            dict[2] = '.'\n",
    "            dict[3] = '-'\n",
    "\n",
    "    elif len(cluster_centers) == 5:\n",
    "        dict[0] = ' '\n",
    "        dict[1] = '_'\n",
    "        dict[2] = ','\n",
    "        dict[3] = '.'\n",
    "        dict[4] = '-'\n",
    "    return dict\n",
    "\n",
    "\n",
    "def sound_translator(path):\n",
    "    samples, sampling_rate = librosa.load(path, sr=10000, mono=True, offset=0.0\n",
    "                        , duration=None)\n",
    "    print(samples)\n",
    "    max_abs_scaler = preprocessing.MaxAbsScaler()\n",
    "    new_samples = max_abs_scaler.fit_transform(np.array(samples).reshape(1,-1).T)\n",
    "    # new_samples = ((pd.Series(samples) - min(samples)) * (1 - (-1))) / (max(samples) - min(samples)) + (-1)\n",
    "    threshold =np.mean(list(map(lambda i: abs(i), new_samples)))\n",
    "    bin_samples = [1 if abs(new_val)>threshold else 0 for new_val in new_samples]\n",
    "    bin_samples = bin_samples[bin_samples.index(1):max([i for i ,e in enumerate(bin_samples) if e == 1])+1]\n",
    "    bin_samples = bin_samples[bin_samples.index(1):max([i for i ,e in enumerate(bin_samples) if e == 1])+1]\n",
    "    border = 100\n",
    "    new_bin_samples =  [1 for i in range(border)] + \\\n",
    "    [(1 if (bin_samples[i] ==1 or (np.sum(bin_samples[i-border:i]) > 0 and np.sum(bin_samples[i:i+border]) > 0)) else 0) \\\n",
    "     for i in list(range(border, len(bin_samples)-border))] + \\\n",
    "          [1 for i in range(border)]\n",
    "    \n",
    "    new_list = []\n",
    "    k = 0\n",
    "    for i in range(len(new_bin_samples)-1):\n",
    "        if new_bin_samples[i] != new_bin_samples[i+1]:\n",
    "            if new_bin_samples[i] == 1:\n",
    "                new_list.append(i-k+1)\n",
    "            else:\n",
    "                new_list.append(-(i+1-k))\n",
    "            k = i \n",
    "    new_list.append(len(new_bin_samples)-k)\n",
    "    # new_list = [i for i in new_list if abs(i)>max(new_list)/10]\n",
    "    new_list = [i for i in new_list if abs(i)>100]\n",
    "    scaler = StandardScaler()\n",
    "    scaled = scaler.fit_transform(np.array([i for i in new_list]).reshape(1,-1).T)\n",
    "    silhouette_coefficients = []\n",
    "    if(len(scaled)>1):\n",
    "        for k in range(2, 6):\n",
    "            if(len(scaled)>k):\n",
    "                clustering = SpectralClustering(n_clusters=k).fit(scaled)\n",
    "                score = silhouette_score(scaled, clustering.labels_)\n",
    "                silhouette_coefficients.append(score)\n",
    "                print(score)\n",
    "\n",
    "        print(silhouette_coefficients)\n",
    "        n_clust = silhouette_coefficients.index(max(silhouette_coefficients))+2\n",
    "        clustering = SpectralClustering(n_clusters=n_clust)\n",
    "        clustering.fit(scaled)\n",
    "        \n",
    "        df = pd.DataFrame(columns = ['length', 'class'])\n",
    "        df['length'] = new_list\n",
    "        df['class'] = clustering.labels_\n",
    "    else:\n",
    "        n_clust = 1\n",
    "        df = pd.DataFrame(columns = ['length', 'class'])\n",
    "        df['length'] = new_list\n",
    "        df['class'] = 0\n",
    "\n",
    "    cB0 =df['class']\n",
    "    ord_idx=np.argsort(df.groupby(['class']).mean()['length'])\n",
    "    cntrs = np.zeros_like(cB0)-1\n",
    "    for i in np.arange(n_clust):\n",
    "        cntrs[cB0==ord_idx[i]]=i\n",
    "\n",
    "    df = pd.DataFrame(columns = ['length', 'class'])\n",
    "    df['length'] = new_list\n",
    "    df['class'] = cntrs\n",
    "    dict = dict_class_to_morse(np.array([np.sort(df.groupby(['class']).mean()['length'])]).T)\n",
    "    # print(df['class'])\n",
    "    # print(\"\".join([dict.get(i) for i in df['class']]))\n",
    "    try:\n",
    "        return translator_from_morse(\"\".join([dict.get(i) for i in df['class']])) \n",
    "    except:\n",
    "        return \"Cant translate sound\""
   ]
  },
  {
   "cell_type": "code",
   "execution_count": 36,
   "metadata": {},
   "outputs": [],
   "source": [
    "import matplotlib.pyplot as plt"
   ]
  },
  {
   "cell_type": "code",
   "execution_count": 37,
   "metadata": {},
   "outputs": [
    {
     "name": "stdout",
     "output_type": "stream",
     "text": [
      "0.819776859033219\n",
      "0.7075745161391735\n",
      "0.9200358132911689\n",
      "0.6927505521188368\n",
      "[0.819776859033219, 0.7075745161391735, 0.9200358132911689, 0.6927505521188368]\n"
     ]
    },
    {
     "data": {
      "image/png": "[encoded data removed]",
      "text/plain": [
       "<Figure size 640x480 with 1 Axes>"
      ]
     },
     "metadata": {},
     "output_type": "display_data"
    }
   ],
   "source": [
    "samples, sampling_rate = librosa.load('/Users/zuzannaglinka/gcpBackend/test_tmp/beep-04_0.wav', sr=10000, mono=True, offset=0.0\n",
    "                    , duration=None)\n",
    "plt.plot(samples)\n",
    "max_abs_scaler = preprocessing.MaxAbsScaler()\n",
    "new_samples = max_abs_scaler.fit_transform(np.array(samples).reshape(1,-1).T)\n",
    "# new_samples = ((pd.Series(samples) - min(samples)) * (1 - (-1))) / (max(samples) - min(samples)) + (-1)\n",
    "threshold =np.mean(list(map(lambda i: abs(i), new_samples)))\n",
    "bin_samples = [1 if abs(new_val)>threshold else 0 for new_val in new_samples]\n",
    "bin_samples = bin_samples[bin_samples.index(1):max([i for i ,e in enumerate(bin_samples) if e == 1])+1]\n",
    "bin_samples = bin_samples[bin_samples.index(1):max([i for i ,e in enumerate(bin_samples) if e == 1])+1]\n",
    "border = 100\n",
    "new_bin_samples =  [1 for i in range(border)] + \\\n",
    "[(1 if (bin_samples[i] ==1 or (np.sum(bin_samples[i-border:i]) > 0 and np.sum(bin_samples[i:i+border]) > 0)) else 0) \\\n",
    "    for i in list(range(border, len(bin_samples)-border))] + \\\n",
    "        [1 for i in range(border)]\n",
    "\n",
    "new_list = []\n",
    "k = 0\n",
    "for i in range(len(new_bin_samples)-1):\n",
    "    if new_bin_samples[i] != new_bin_samples[i+1]:\n",
    "        if new_bin_samples[i] == 1:\n",
    "            new_list.append(i-k+1)\n",
    "        else:\n",
    "            new_list.append(-(i+1-k))\n",
    "        k = i \n",
    "new_list.append(len(new_bin_samples)-k)\n",
    "# new_list = [i for i in new_list if abs(i)>max(new_list)/10]\n",
    "new_list = [i for i in new_list if abs(i)>100]\n",
    "scaler = StandardScaler()\n",
    "scaled = scaler.fit_transform(np.array([i for i in new_list]).reshape(1,-1).T)\n",
    "silhouette_coefficients = []\n",
    "if(len(scaled)>1):\n",
    "    for k in range(2, 6):\n",
    "        if(len(scaled)>k):\n",
    "            clustering = SpectralClustering(n_clusters=k).fit(scaled)\n",
    "            score = silhouette_score(scaled, clustering.labels_)\n",
    "            silhouette_coefficients.append(score)\n",
    "            print(score)\n",
    "\n",
    "    print(silhouette_coefficients)\n",
    "    n_clust = silhouette_coefficients.index(max(silhouette_coefficients))+2\n",
    "    clustering = SpectralClustering(n_clusters=n_clust)\n",
    "    clustering.fit(scaled)\n",
    "    \n",
    "    df = pd.DataFrame(columns = ['length', 'class'])\n",
    "    df['length'] = new_list\n",
    "    df['class'] = clustering.labels_\n",
    "else:\n",
    "    n_clust = 1\n",
    "    df = pd.DataFrame(columns = ['length', 'class'])\n",
    "    df['length'] = new_list\n",
    "    df['class'] = 0\n"
   ]
  },
  {
   "cell_type": "code",
   "execution_count": 38,
   "metadata": {},
   "outputs": [
    {
     "data": {
      "text/html": [
       "<div>\n",
       "<style scoped>\n",
       "    .dataframe tbody tr th:only-of-type {\n",
       "        vertical-align: middle;\n",
       "    }\n",
       "\n",
       "    .dataframe tbody tr th {\n",
       "        vertical-align: top;\n",
       "    }\n",
       "\n",
       "    .dataframe thead th {\n",
       "        text-align: right;\n",
       "    }\n",
       "</style>\n",
       "<table border=\"1\" class=\"dataframe\">\n",
       "  <thead>\n",
       "    <tr style=\"text-align: right;\">\n",
       "      <th></th>\n",
       "      <th>length</th>\n",
       "      <th>class</th>\n",
       "    </tr>\n",
       "  </thead>\n",
       "  <tbody>\n",
       "    <tr>\n",
       "      <th>0</th>\n",
       "      <td>4603</td>\n",
       "      <td>3</td>\n",
       "    </tr>\n",
       "    <tr>\n",
       "      <th>1</th>\n",
       "      <td>-1490</td>\n",
       "      <td>2</td>\n",
       "    </tr>\n",
       "    <tr>\n",
       "      <th>2</th>\n",
       "      <td>4876</td>\n",
       "      <td>3</td>\n",
       "    </tr>\n",
       "    <tr>\n",
       "      <th>3</th>\n",
       "      <td>-1399</td>\n",
       "      <td>2</td>\n",
       "    </tr>\n",
       "    <tr>\n",
       "      <th>4</th>\n",
       "      <td>4672</td>\n",
       "      <td>3</td>\n",
       "    </tr>\n",
       "    <tr>\n",
       "      <th>...</th>\n",
       "      <td>...</td>\n",
       "      <td>...</td>\n",
       "    </tr>\n",
       "    <tr>\n",
       "      <th>64</th>\n",
       "      <td>4553</td>\n",
       "      <td>3</td>\n",
       "    </tr>\n",
       "    <tr>\n",
       "      <th>65</th>\n",
       "      <td>-1357</td>\n",
       "      <td>2</td>\n",
       "    </tr>\n",
       "    <tr>\n",
       "      <th>66</th>\n",
       "      <td>5476</td>\n",
       "      <td>3</td>\n",
       "    </tr>\n",
       "    <tr>\n",
       "      <th>67</th>\n",
       "      <td>-1545</td>\n",
       "      <td>2</td>\n",
       "    </tr>\n",
       "    <tr>\n",
       "      <th>68</th>\n",
       "      <td>4400</td>\n",
       "      <td>3</td>\n",
       "    </tr>\n",
       "  </tbody>\n",
       "</table>\n",
       "<p>69 rows × 2 columns</p>\n",
       "</div>"
      ],
      "text/plain": [
       "    length  class\n",
       "0     4603      3\n",
       "1    -1490      2\n",
       "2     4876      3\n",
       "3    -1399      2\n",
       "4     4672      3\n",
       "..     ...    ...\n",
       "64    4553      3\n",
       "65   -1357      2\n",
       "66    5476      3\n",
       "67   -1545      2\n",
       "68    4400      3\n",
       "\n",
       "[69 rows x 2 columns]"
      ]
     },
     "execution_count": 38,
     "metadata": {},
     "output_type": "execute_result"
    }
   ],
   "source": [
    "df"
   ]
  },
  {
   "cell_type": "code",
   "execution_count": 39,
   "metadata": {},
   "outputs": [
    {
     "name": "stdout",
     "output_type": "stream",
     "text": [
      "[[-12983.66666667]\n",
      " [ -1456.85714286]\n",
      " [  1424.14285714]\n",
      " [  4530.64285714]]\n"
     ]
    }
   ],
   "source": [
    "\n",
    "cB0 =df['class']\n",
    "ord_idx=np.argsort(df.groupby(['class']).mean()['length'])\n",
    "cntrs = np.zeros_like(cB0)-1\n",
    "for i in np.arange(n_clust):\n",
    "    cntrs[cB0==ord_idx[i]]=i\n",
    "\n",
    "df = pd.DataFrame(columns = ['length', 'class'])\n",
    "df['length'] = new_list\n",
    "df['class'] = cntrs\n",
    "dict = dict_class_to_morse(np.array([np.sort(df.groupby(['class']).mean()['length'])]).T)\n",
    "# print(df['class'])\n",
    "# print(\"\".join([dict.get(i) for i in df['class']]))\n"
   ]
  },
  {
   "cell_type": "code",
   "execution_count": null,
   "metadata": {},
   "outputs": [],
   "source": []
  },
  {
   "cell_type": "code",
   "execution_count": 40,
   "metadata": {},
   "outputs": [
    {
     "data": {
      "text/plain": [
       "{0: ' ', 1: ',', 2: '.', 3: '-'}"
      ]
     },
     "execution_count": 40,
     "metadata": {},
     "output_type": "execute_result"
    }
   ],
   "source": [
    "dict"
   ]
  },
  {
   "cell_type": "code",
   "execution_count": 41,
   "metadata": {},
   "outputs": [
    {
     "data": {
      "text/plain": [
       "'-,-,-,.,. .,.,.,.,. .,.,.,.,- .,.,.,-,- .,.,-,-,- .,.,.,-,- .,.,-,-,-'"
      ]
     },
     "execution_count": 41,
     "metadata": {},
     "output_type": "execute_result"
    }
   ],
   "source": [
    "\"\".join([dict.get(i) for i in df['class']])"
   ]
  },
  {
   "cell_type": "code",
   "execution_count": 42,
   "metadata": {},
   "outputs": [
    {
     "data": {
      "text/plain": [
       "'5'"
      ]
     },
     "execution_count": 42,
     "metadata": {},
     "output_type": "execute_result"
    }
   ],
   "source": [
    "translator_from_morse('.,.,.,.,.')"
   ]
  },
  {
   "cell_type": "code",
   "execution_count": 43,
   "metadata": {},
   "outputs": [
    {
     "data": {
      "text/plain": [
       "'8 5 4 3 2 3 2'"
      ]
     },
     "execution_count": 43,
     "metadata": {},
     "output_type": "execute_result"
    }
   ],
   "source": [
    "translator_from_morse(\"\".join([dict.get(i) for i in df['class']])) "
   ]
  },
  {
   "cell_type": "code",
   "execution_count": null,
   "metadata": {},
   "outputs": [],
   "source": []
  }
 ],
 "metadata": {
  "kernelspec": {
   "display_name": "Python 3",
   "language": "python",
   "name": "python3"
  },
  "language_info": {
   "codemirror_mode": {
    "name": "ipython",
    "version": 3
   },
   "file_extension": ".py",
   "mimetype": "text/x-python",
   "name": "python",
   "nbconvert_exporter": "python",
   "pygments_lexer": "ipython3",
   "version": "3.11.6"
  }
 },
 "nbformat": 4,
 "nbformat_minor": 2
}
